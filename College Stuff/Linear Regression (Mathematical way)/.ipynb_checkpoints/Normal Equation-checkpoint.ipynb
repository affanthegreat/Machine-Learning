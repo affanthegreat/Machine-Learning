{
 "cells": [
  {
   "cell_type": "code",
   "execution_count": 2,
   "metadata": {},
   "outputs": [],
   "source": [
    "import numpy as np\n",
    "import matplotlib.pyplot as plt\n",
    "import pandas as pd\n",
    "\n",
    "dataset = pd.read_csv(\"data.csv\")\n",
    "dataset.head()\n",
    "# xAxisarray = np.array(dataset.x)\n",
    "# yAxisarray = np.array(dataset.y)\n",
    "class SimpleRegression:\n",
    "    def __init__(self):\n",
    "        self.slope = 0\n",
    "        self.intercept = 0\n",
    "    def fit(self,x,y):\n",
    "        self.x = x\n",
    "        self.y = y\n",
    "        numerator = np.sum((self.x - np.mean(self.x)*(self.y - np.mean(self.y))))\n",
    "        denominator = np.sum((self.x - np.mean(self.x) **2))\n",
    "        self.slope = numerator/denominator\n",
    "        self.intercept = np.mean(self.y) - (self.slope* np.mean(self.x))\n",
    "    def predict(self,x):\n",
    "        return (self.slope* x) + self.intercept\n",
    "    def evalute(self, X ,Y):\n",
    "        return np.mean((Y - (self.predict(X))) ** 2)\n",
    "# x = SimpleRegression()\n",
    "# x.fit(xAxisarray,yAxisarray)\n",
    "# x.fit(xAxisarray,yAxisarray)\n"
   ]
  }
 ],
 "metadata": {
  "kernelspec": {
   "display_name": "Python 3",
   "language": "python",
   "name": "python3"
  },
  "language_info": {
   "codemirror_mode": {
    "name": "ipython",
    "version": 3
   },
   "file_extension": ".py",
   "mimetype": "text/x-python",
   "name": "python",
   "nbconvert_exporter": "python",
   "pygments_lexer": "ipython3",
   "version": "3.7.6"
  }
 },
 "nbformat": 4,
 "nbformat_minor": 4
}
