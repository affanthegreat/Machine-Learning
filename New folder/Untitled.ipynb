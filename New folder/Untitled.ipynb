{
 "cells": [
  {
   "cell_type": "code",
   "execution_count": 1,
   "metadata": {},
   "outputs": [],
   "source": [
    "import pandas as pd"
   ]
  },
  {
   "cell_type": "code",
   "execution_count": 2,
   "metadata": {},
   "outputs": [],
   "source": [
    "a = pd.read_excel('int.xlsx')\n",
    "b = pd.read_excel('roll.xlsx')\n"
   ]
  },
  {
   "cell_type": "code",
   "execution_count": 3,
   "metadata": {},
   "outputs": [
    {
     "data": {
      "text/html": [
       "<div>\n",
       "<style scoped>\n",
       "    .dataframe tbody tr th:only-of-type {\n",
       "        vertical-align: middle;\n",
       "    }\n",
       "\n",
       "    .dataframe tbody tr th {\n",
       "        vertical-align: top;\n",
       "    }\n",
       "\n",
       "    .dataframe thead th {\n",
       "        text-align: right;\n",
       "    }\n",
       "</style>\n",
       "<table border=\"1\" class=\"dataframe\">\n",
       "  <thead>\n",
       "    <tr style=\"text-align: right;\">\n",
       "      <th></th>\n",
       "      <th>S.No</th>\n",
       "      <th>Student Name</th>\n",
       "      <th>University Enrollment Number</th>\n",
       "      <th>Gender</th>\n",
       "      <th>Email ID</th>\n",
       "      <th>Mobile Number</th>\n",
       "      <th>Branch</th>\n",
       "    </tr>\n",
       "  </thead>\n",
       "  <tbody>\n",
       "    <tr>\n",
       "      <th>0</th>\n",
       "      <td>1</td>\n",
       "      <td>Aahana Sharma</td>\n",
       "      <td>182013201</td>\n",
       "      <td>Female</td>\n",
       "      <td>aahanakaushik2002@gmail.com</td>\n",
       "      <td>7465005421</td>\n",
       "      <td>CSE</td>\n",
       "    </tr>\n",
       "    <tr>\n",
       "      <th>1</th>\n",
       "      <td>2</td>\n",
       "      <td>Aashima Gupta</td>\n",
       "      <td>18142190</td>\n",
       "      <td>Female</td>\n",
       "      <td>aashigupta2000@gmail.com</td>\n",
       "      <td>7088040216</td>\n",
       "      <td>CSE</td>\n",
       "    </tr>\n",
       "    <tr>\n",
       "      <th>2</th>\n",
       "      <td>3</td>\n",
       "      <td>Aastha Bhardwaj</td>\n",
       "      <td>182013204</td>\n",
       "      <td>Female</td>\n",
       "      <td>geurecruitaasthabhardwaj@gmail.com</td>\n",
       "      <td>8368113792</td>\n",
       "      <td>CSE</td>\n",
       "    </tr>\n",
       "    <tr>\n",
       "      <th>3</th>\n",
       "      <td>4</td>\n",
       "      <td>Aastha Bist</td>\n",
       "      <td>GE-182013681</td>\n",
       "      <td>Female</td>\n",
       "      <td>abist119@gmail.com</td>\n",
       "      <td>9027207808</td>\n",
       "      <td>CSE</td>\n",
       "    </tr>\n",
       "    <tr>\n",
       "      <th>4</th>\n",
       "      <td>5</td>\n",
       "      <td>Aayush Kr Tripathi</td>\n",
       "      <td>2013205</td>\n",
       "      <td>Male</td>\n",
       "      <td>aayushtripathi99@gmail.com</td>\n",
       "      <td>8077592061</td>\n",
       "      <td>CSE</td>\n",
       "    </tr>\n",
       "  </tbody>\n",
       "</table>\n",
       "</div>"
      ],
      "text/plain": [
       "   S.No        Student Name University Enrollment Number  Gender  \\\n",
       "0     1       Aahana Sharma                    182013201  Female   \n",
       "1     2       Aashima Gupta                     18142190  Female   \n",
       "2     3     Aastha Bhardwaj                    182013204  Female   \n",
       "3     4         Aastha Bist                 GE-182013681  Female   \n",
       "4     5  Aayush Kr Tripathi                      2013205    Male   \n",
       "\n",
       "                             Email ID  Mobile Number Branch  \n",
       "0         aahanakaushik2002@gmail.com     7465005421    CSE  \n",
       "1            aashigupta2000@gmail.com     7088040216    CSE  \n",
       "2  geurecruitaasthabhardwaj@gmail.com     8368113792    CSE  \n",
       "3                  abist119@gmail.com     9027207808    CSE  \n",
       "4          aayushtripathi99@gmail.com     8077592061    CSE  "
      ]
     },
     "execution_count": 3,
     "metadata": {},
     "output_type": "execute_result"
    }
   ],
   "source": [
    "a.head()"
   ]
  },
  {
   "cell_type": "code",
   "execution_count": null,
   "metadata": {},
   "outputs": [],
   "source": []
  },
  {
   "cell_type": "code",
   "execution_count": 4,
   "metadata": {},
   "outputs": [
    {
     "data": {
      "text/html": [
       "<div>\n",
       "<style scoped>\n",
       "    .dataframe tbody tr th:only-of-type {\n",
       "        vertical-align: middle;\n",
       "    }\n",
       "\n",
       "    .dataframe tbody tr th {\n",
       "        vertical-align: top;\n",
       "    }\n",
       "\n",
       "    .dataframe thead th {\n",
       "        text-align: right;\n",
       "    }\n",
       "</style>\n",
       "<table border=\"1\" class=\"dataframe\">\n",
       "  <thead>\n",
       "    <tr style=\"text-align: right;\">\n",
       "      <th></th>\n",
       "      <th>SN</th>\n",
       "      <th>Roll No.</th>\n",
       "      <th>Enrol_No.</th>\n",
       "      <th>Adm. No</th>\n",
       "      <th>Students Name</th>\n",
       "      <th>Father's Name</th>\n",
       "      <th>Branch</th>\n",
       "    </tr>\n",
       "  </thead>\n",
       "  <tbody>\n",
       "    <tr>\n",
       "      <th>0</th>\n",
       "      <td>1</td>\n",
       "      <td>2014619</td>\n",
       "      <td>GE-192014619</td>\n",
       "      <td>19022453</td>\n",
       "      <td>BHAVYA SRIVASTAVA</td>\n",
       "      <td>GEETESH SRIVASTAVA</td>\n",
       "      <td>CSE ML &amp; AI</td>\n",
       "    </tr>\n",
       "    <tr>\n",
       "      <th>1</th>\n",
       "      <td>2</td>\n",
       "      <td>2014639</td>\n",
       "      <td>GE-192014639</td>\n",
       "      <td>19021144</td>\n",
       "      <td>DHRUV PUNETHA</td>\n",
       "      <td>RAJENDRA MOHAN PUNETHA</td>\n",
       "      <td>CSE ML &amp; AI</td>\n",
       "    </tr>\n",
       "    <tr>\n",
       "      <th>2</th>\n",
       "      <td>3</td>\n",
       "      <td>2014654</td>\n",
       "      <td>GE-192014654</td>\n",
       "      <td>19021025</td>\n",
       "      <td>GAGAN  SONI</td>\n",
       "      <td>SURESH SONI</td>\n",
       "      <td>CSE ML &amp; AI</td>\n",
       "    </tr>\n",
       "    <tr>\n",
       "      <th>3</th>\n",
       "      <td>4</td>\n",
       "      <td>2014669</td>\n",
       "      <td>GE-192014669</td>\n",
       "      <td>19021325</td>\n",
       "      <td>HARSH  CHATURVEDI</td>\n",
       "      <td>GIRISH KUMAR CHATURVEDI</td>\n",
       "      <td>CSE ML &amp; AI</td>\n",
       "    </tr>\n",
       "    <tr>\n",
       "      <th>4</th>\n",
       "      <td>5</td>\n",
       "      <td>2014676</td>\n",
       "      <td>GE-192014676</td>\n",
       "      <td>19021291</td>\n",
       "      <td>HARSHIT</td>\n",
       "      <td>SANJAY KUMAR</td>\n",
       "      <td>CSE ML &amp; AI</td>\n",
       "    </tr>\n",
       "  </tbody>\n",
       "</table>\n",
       "</div>"
      ],
      "text/plain": [
       "   SN  Roll No.      Enrol_No.   Adm. No      Students Name  \\\n",
       "0   1    2014619  GE-192014619  19022453  BHAVYA SRIVASTAVA   \n",
       "1   2    2014639  GE-192014639  19021144      DHRUV PUNETHA   \n",
       "2   3    2014654  GE-192014654  19021025        GAGAN  SONI   \n",
       "3   4    2014669  GE-192014669  19021325  HARSH  CHATURVEDI   \n",
       "4   5    2014676  GE-192014676  19021291            HARSHIT   \n",
       "\n",
       "            Father's Name        Branch  \n",
       "0       GEETESH SRIVASTAVA  CSE ML & AI  \n",
       "1   RAJENDRA MOHAN PUNETHA  CSE ML & AI  \n",
       "2              SURESH SONI  CSE ML & AI  \n",
       "3  GIRISH KUMAR CHATURVEDI  CSE ML & AI  \n",
       "4             SANJAY KUMAR  CSE ML & AI  "
      ]
     },
     "execution_count": 4,
     "metadata": {},
     "output_type": "execute_result"
    }
   ],
   "source": [
    "b.head()"
   ]
  },
  {
   "cell_type": "code",
   "execution_count": 5,
   "metadata": {},
   "outputs": [],
   "source": [
    "names1 = [i.lower() for i in a[\"Student Name\"]]\n"
   ]
  },
  {
   "cell_type": "code",
   "execution_count": null,
   "metadata": {},
   "outputs": [],
   "source": []
  },
  {
   "cell_type": "code",
   "execution_count": 6,
   "metadata": {},
   "outputs": [],
   "source": [
    "names2 = [i.lower() for i in b[\"Students Name\"]]\n"
   ]
  },
  {
   "cell_type": "code",
   "execution_count": 10,
   "metadata": {},
   "outputs": [
    {
     "name": "stdout",
     "output_type": "stream",
     "text": [
      "['aahana sharma', 'aashima gupta', 'aastha bhardwaj', 'aastha bist', 'aayush kr tripathi', 'aayush saklani ', 'aayush tyagi', 'aayush vishnoi', 'abhay bansal', 'abhinav kumar gaur ', 'abhinav malik', 'abhishek badoni', 'abhishek gusain', 'abhishek mathur', 'abhishek rauthan', 'abhishek singh', 'abhishek sunar', 'adan hussain', 'adarsh kumar ', 'adarsh singh ', 'aditi goswami', 'aditi pandey', 'aditi rawat', 'aditi saini', 'aditya', 'aditya gupta', 'aditya rawat', 'aditya sati', 'aditya singh chauhan ', 'akarsh saransi', 'akash raturi', 'akrati dubey ', 'akshat jain', 'akshita patwal ', 'alok nath pandey', 'aman chaturvedi', 'aman pratap singh', 'aman pundora', 'aman rai', 'ambika bansal', 'analshikha rawat', 'analshikha rawat', 'anand raj', 'ananya atray', 'aniket gahlod', 'anjali rana ', 'ankit panwar ', 'anmol gupta ', 'annu kumari', 'anshika', 'anshul bhatt', 'anshul tyagi', 'anshuman joshi', 'anubhav solanki', 'anuj gupta', 'anuj rawat', 'anurag bansal', 'anurag goel', 'anurag mahar', 'anushka sharma ', 'archit garg', 'arnav sharma', 'arpit chauhan', 'arpit kumar', 'arush naudiyal', 'arushi gupta ', 'aryan panjiyar', 'ashish bisht', 'ashish chauhan', 'ashish dass', 'ashish pradeep chaubey', 'ashutosh aswal', 'astha kukreti', 'atan bhardwaj', 'atulya bist', 'ayush dimri', 'ayush kaler', 'ayush koul', 'ayush pandey', 'ayush panwar', 'ayushi prajapati', 'ayushi saini', 'bandana kushwaha', 'bhumika sharma', 'darshita gupta', 'deepak', 'deepak singh', 'dev chauhan', 'devansh bhandari', 'devansh rawat ', 'devanshu joshi', 'devyansh saini', 'dhruv rawat', 'diksha raturi', 'dikshant yadav', 'dikshant yadav', 'disha pareek', 'divyansh singh chauhan', 'drishya srivastava', 'feroj', 'garv kumar chauhan', 'gaurav chamyal ', 'gaurav raj', 'gaurav rawat', 'gaurav singh rawat', 'gaurav trivedi', 'gaurisha maheshwari ', 'hamza rizwan', 'harsh varshan', 'harshit gupta', 'hitaishi gaur', 'hitesh sachdeva ', 'hiya devli', 'hrithik saini', 'isha', 'ishansh dangwal', 'ishika jindal', 'ishika kesarwani', 'ishika kesarwani', 'ishita bhardwaj', 'ishita kapil', 'ishita praneet', 'jaspreet singh', 'jatin ahuja', 'jyotika negi', 'k.vikas reddy', 'kamesh upmanyu ', 'kanchan rawat', 'kanishk agarwal', 'karan bhanot', 'karan singh bhakuni', 'kartik kandpal', 'kashyap singh', 'kaustubh thapliyal', 'kavya pandey ', 'keshavi thapliyal', 'ketan c pandey', 'komal kumari', 'komaljyot kaur', 'konark anand', 'kritika pandey', 'kshitij bhardwaj', 'kshitiz jain', 'kuldeep nautiyal', 'kunal aaryen sinha', 'kush bindal', 'kushal ranga', 'kushal srivastava', 'kusum pareek', 'lalitesh', 'maaz choudhary', 'mahima rawat', 'mahima sirola ', 'mamta pal', 'manav mishra', 'manik chauhan', 'manish kumar giri', 'manish kumar giri', 'manish singh negi', 'manish tyagi', 'mannan kathuria', 'manvendra pratap singh', 'manvi langer ', 'mayank aggarwal', 'mayank baliyan', 'mayank baliyan', 'mayank mamgain', 'mayank mamgain ', 'megha silori', 'mohd faiz faheem', 'mridul', 'mridul joshi', 'mritunjay karnatak', 'mrugeeraj parmar', 'mukul kaushik', 'muskan tyagi', 'nahar singh', 'nahar singh', 'naivedya lath', 'naman sharma', 'navya bhatt', 'neeraj sharma', 'neha kandari', 'niraj kumar yadav', 'nishtha', 'nistha lohia', 'nupur garg ', 'obaid naseem', 'padmaj verma', 'paras chauhan', 'paritosh rawat', 'parth joshi', 'payal kumari', 'peeyush pratap singh', 'piyush kumar', 'piyush mehta', 'piyush ranjan', 'pooja chaudhary', 'pooja deorari', 'pooja kholiya', 'prabhakar kumar', 'prabhav negi', 'pragati chauhan', 'pragya singh', 'prakhar bansal', 'prakhar naithani', 'prakhar naithani', 'prakriti gupta', 'prapti rana', 'prashant kumar som', 'preeti dasila', 'priya rai', 'priyanka bharti', 'priyanka koranga', 'raghav chandola', 'raghav ramola', 'raghav ramola', 'raghavendra singh shekhawat', 'rahul chauhan', 'rahul panwar', 'rahul prasad', 'rahul yadav', 'rajvardhan', 'rana yuvraj singh', 'ria goel', 'richa bharti', 'rishabh dimri', 'rishabh tyagi', 'rishav gupta', 'rishu trivedi', 'ritik sharma', 'ritik srivastav ', 'ritika jaiswal', 'ritika singh ', 'ritika tripathi ', 'rituraj bailwal', 'ritwick bisht', 'riya garg', 'riya goel', 'riya johar', 'riya sharma', 'rohan rana', 'rohit kumar mishra', 'rohit narayan', 'roshan kumar', 'rounsely negi ', 'sachin kumar', 'sahil bisht', 'saksham agarwal', 'saksham chaudhary', 'saksham chaudhary', 'saksham dangwal', 'saksham gera ', 'sambhav srivastava', 'samridh dhasmana', 'sanidhya verma ', 'sanskar singhal', 'sapna saun', 'sarthak bhatt', 'sarthak gupta', 'sarthak gupta', 'satyam sharma', 'saurabh bisht', 'shagun chauhan', 'shantanu verma', 'shashank dhyani', 'shaswat', 'shivam bohra', 'shivam kumar', 'shivam solanki', 'shivangi bansal', 'shivangi bisht', 'shivangi rawat', 'shivani deoli', 'shivank', 'shivanshu ahuja ', 'shivanshu tiwari', 'shivi agarwal', 'shobhit rawat', 'shrey singhal', 'shreya aggarwal', 'shreya bansal ', 'shreya bansal ', 'shreya mittal', 'shruti rawat', 'shubham bisht', 'shubham bisht', 'shubham jain', 'shubham jain', 'shubham kant chaurasia ', 'shubham rana', 'shubham singh bohra', 'shubhank singhal', 'siddhant kumar', 'siddhant mishra', 'siddhant rawat', 'siddhant thapliyal', 'siddharth lasiyal', 'siddharth singh', 'sidhant bidaliya', 'simran sethi', 'sista seetaram', 'sneh agrawal', 'sneh sharma', 'snigdha biswas', 'sonal malhotra', 'sourabh patidar', 'sparsh saxena', 'srishti patwal ', 'stuti bahuguna ', 'subodh rana', 'sudhanshu prajapati', 'suhani arora ', 'sumeet gairola', 'sundaram saurabh', 'sunmeet singh', 'sunoj tomar', 'suraj lunthi', 'suyash agarwal', 'suyash dutt', 'sweta agarwal', 'tanishqa joshi', 'tanmay rauthan', 'tanmay uniyal', 'tannushree bhandari', 'tanuj pandey', 'tanya chetna vaish', 'tejash bansal', 'thakur prashant peeyush', 'tushar arora', 'tushar dimri', 'tushar jha', 'tushar pandey', 'udisha mehra', 'ujjawal varshney', 'upendra sharma', 'utkarsh garg', 'vaibhav bharti', 'vaibhav bisht', 'vaibhav jain', 'vaibhav joshi', 'vaibhav singh', 'vaibhav srivastava', 'vaishnavi agarwal', 'vanshika kaushik', 'vartika bhandari ', 'varun joshi', 'varun pathak', 'vibhuti', 'vidha pandey', 'vidhi bhatt', 'vidit rastogi', 'vidur agarwal', 'vikrant singh', 'vineet choudhary', 'vineet joshi', 'vishnu raj', 'vishwas agarwal', 'vishwas agarwal', 'yash goel', 'yash pandey ', 'yashika dangi', 'yogita sharma', 'yuvraj joshi', 'yuvraj singh', 'zubair ansari']\n"
     ]
    }
   ],
   "source": [
    "print(names1)"
   ]
  },
  {
   "cell_type": "code",
   "execution_count": 11,
   "metadata": {},
   "outputs": [
    {
     "name": "stdout",
     "output_type": "stream",
     "text": [
      "['bhavya srivastava', 'dhruv punetha', 'gagan  soni', 'harsh  chaturvedi', 'harshit', 'lokesh  rawat', 'mritunjai s rawat', 'navleen  arora', 'neha  saxena', 'prashant  arya', 'pratyaksh  bharadwaj', 'sameer  srivastava', 'utkarsh  kushwaha', 'ansh kumar garg', 'aakarshan chauhan', 'aashee rawat', 'abhinav rawat', 'akshat bhatt', 'akshat  rana', 'aman  nautiyal', 'anirudh negi', 'anmol  siwach', 'anushka  agarwal', 'ashish sahu', 'ashutosh  bisht', 'ashutosh  dhyani', 'ashutosh vyas', 'aviral  sharma', 'ayush mittal', 'ayush singh rawat', 'devendra  johari', 'dhruv saini', 'divyansh  saxena', 'divyansh gautam', 'jigyasu  deo', 'keshav aman', 'keshav  tanwar', 'kunnal vishnoi', 'kushagr  nandan', 'lakshika  kapri', 'maneesh  cheema', 'neetansh  bhartiya', 'nupur  rawat', 'paras raj dhar', 'parth  nautiyal', 'prabhat  malhan', 'prakhar  bhandari', 'pridum  bhat', 'priyanshu  dimri', 'rachit  kukreja', 'raja', 'rishab  negi', 'riya  rawat', 'rohan  tripathi', 'sachin  sajwan', 'sahitya arya', 'sankalp  varshney', 'sanyam  jain', 'sarthak  malik', 'sarvagya  rawat', 'saumya  singh', 'shashank raturi', 'shivam  bahukhandi', 'shivani  aswal', 'shivanshu singh bisht', 'shraddha markandey', 'shreya nawani', 'shubh  rastogi', 'syed affan ahmad', 'ujjwal panwar', 'vidushi prasad', 'bhanu pratap singh', 'deepanshu tewari', 'ganganapali venkata  kalyan', 'shaik farhathulla', 'adarsh dutt shukla', 't shankar', 'astha  rai', 'keshav goswami', 'harshit sati', 'pranjal agarwal', 'ritvik  sharma', 'aashi bansal', 'harshit tiwari', 'naman  sharma', 'lavish arora', 'surbhi  gusain', 'piyush  kumar', 'aryan  tuteja']\n"
     ]
    }
   ],
   "source": [
    "print(names2)"
   ]
  },
  {
   "cell_type": "code",
   "execution_count": 16,
   "metadata": {},
   "outputs": [],
   "source": [
    "w = []\n",
    "for i in names2:\n",
    "    \n",
    "    if i in names1:\n",
    "       w.append(i)"
   ]
  },
  {
   "cell_type": "code",
   "execution_count": null,
   "metadata": {},
   "outputs": [],
   "source": []
  },
  {
   "cell_type": "code",
   "execution_count": null,
   "metadata": {},
   "outputs": [],
   "source": []
  },
  {
   "cell_type": "code",
   "execution_count": null,
   "metadata": {},
   "outputs": [],
   "source": []
  },
  {
   "cell_type": "code",
   "execution_count": 8,
   "metadata": {},
   "outputs": [
    {
     "name": "stdout",
     "output_type": "stream",
     "text": [
      "[]\n"
     ]
    }
   ],
   "source": [
    "print(w)"
   ]
  }
 ],
 "metadata": {
  "kernelspec": {
   "display_name": "Python 3",
   "language": "python",
   "name": "python3"
  },
  "language_info": {
   "codemirror_mode": {
    "name": "ipython",
    "version": 3
   },
   "file_extension": ".py",
   "mimetype": "text/x-python",
   "name": "python",
   "nbconvert_exporter": "python",
   "pygments_lexer": "ipython3",
   "version": "3.7.6"
  }
 },
 "nbformat": 4,
 "nbformat_minor": 4
}
