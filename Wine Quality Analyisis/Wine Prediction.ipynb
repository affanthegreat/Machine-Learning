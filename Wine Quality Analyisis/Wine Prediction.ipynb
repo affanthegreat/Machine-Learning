{
 "cells": [
  {
   "cell_type": "code",
   "execution_count": null,
   "metadata": {},
   "outputs": [],
   "source": [
    "#Author: Affan Ahmed\n",
    "#roll: 2015287\n",
    "#section ML\n",
    "\n",
    "import numpy as np\n",
    "import matplotlib.pyplot as plt\n",
    "import pandas as pd"
   ]
  },
  {
   "cell_type": "code",
   "execution_count": null,
   "metadata": {},
   "outputs": [],
   "source": [
    "data=pd.read_csv(\"winequality-red.csv\")\n",
    "heads=['fixed acidity','volatile acidity','citric acid','residual sugar','chlorides','free sulfur dioxide','total sulfur dioxide','density','pH','sulphates','alcohol']\n",
    "for col in heads:\n",
    "    data[col]=data[col].replace(\"\",np.NaN)\n",
    "    median= int(data[col].median(skipna = True))\n",
    "    data[col]=data[col].replace(np.NaN,median)\n",
    "data['type']=data['type'].replace(\"white\",1)\n",
    "data['type']=data['type'].replace(\"red\",2)\n",
    "data.head()"
   ]
  },
  {
   "cell_type": "code",
   "execution_count": null,
   "metadata": {},
   "outputs": [],
   "source": [
    "from sklearn.model_selection import train_test_split\n",
    "from sklearn.linear_model import LinearRegression\n",
    "from sklearn.preprocessing import StandardScaler\n",
    "from sklearn.metrics import mean_absolute_error, mean_squared_error\n",
    "from sklearn.neighbors import KNeighborsClassifier\n",
    "from sklearn.metrics import f1_score,confusion_matrix"
   ]
  },
  {
   "cell_type": "code",
   "execution_count": null,
   "metadata": {},
   "outputs": [],
   "source": [
    "x=data.iloc[:,0:12]\n",
    "y=data.iloc[:,12]\n",
    "\n",
    "x_train, x_test, y_train, y_test = train_test_split(x, y, test_size = 0.2, random_state = 0)"
   ]
  },
  {
   "cell_type": "code",
   "execution_count": null,
   "metadata": {},
   "outputs": [],
   "source": [
    "x_train = StandardScaler().fit_transform(x_train)\n",
    "x_test = StandardScaler().fit_transform(x_test)"
   ]
  },
  {
   "cell_type": "code",
   "execution_count": null,
   "metadata": {},
   "outputs": [],
   "source": [
    "model=LinearRegression()\n",
    "model.fit(x_train,y_train)\n",
    "result=model.predict(x_test)\n",
    "result=np.round_(result)\n",
    "y_test=np.array(y_test)\n",
    "for i in range(len(y_test)):\n",
    "    print(int(result[i]),y_test[i])"
   ]
  },
  {
   "cell_type": "code",
   "execution_count": null,
   "metadata": {},
   "outputs": [],
   "source": [
    "print('Mean Absolute Error:', mean_absolute_error(y_test, result))\n",
    "print('Mean Squared Error:', mean_squared_error(y_test, result))\n",
    "print('Root Mean Squared Error:', np.sqrt(mean_squared_error(y_test, result)))\n",
    "print(f1_score(y_test,result ,average=\"micro\"))"
   ]
  },
  {
   "cell_type": "code",
   "execution_count": null,
   "metadata": {},
   "outputs": [],
   "source": [
    "model2=KNeighborsClassifier(n_neighbors=10,p=10,metric=\"euclidean\")\n",
    "model2.fit(x_train,y_train)\n",
    "result=model2.predict(x_test)\n",
    "y_test=np.array(y_test)\n",
    "print(confusion_matrix(y_test,result))\n",
    "print(f1_score(y_test,result ,average=\"micro\"))\n",
    "y_test=np.array(y_test)\n",
    "for i in range(len(result)):\n",
    "    print(result[i],y_test[i])"
   ]
  }
 ],
 "metadata": {
  "kernelspec": {
   "display_name": "Python 3",
   "language": "python",
   "name": "python3"
  },
  "language_info": {
   "codemirror_mode": {
    "name": "ipython",
    "version": 3
   },
   "file_extension": ".py",
   "mimetype": "text/x-python",
   "name": "python",
   "nbconvert_exporter": "python",
   "pygments_lexer": "ipython3",
   "version": "3.7.6"
  }
 },
 "nbformat": 4,
 "nbformat_minor": 4
}
